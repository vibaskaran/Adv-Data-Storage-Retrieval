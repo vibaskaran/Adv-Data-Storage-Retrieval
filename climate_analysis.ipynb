{
 "cells": [
  {
   "cell_type": "markdown",
   "metadata": {},
   "source": [
    "### Pre Requisities "
   ]
  },
  {
   "cell_type": "code",
   "execution_count": 1,
   "metadata": {
    "collapsed": true
   },
   "outputs": [],
   "source": [
    "import numpy as np\n",
    "import pandas as pd\n",
    "import sqlalchemy\n",
    "from sqlalchemy.ext.automap import automap_base\n",
    "from sqlalchemy.orm import Session\n",
    "from sqlalchemy import create_engine\n",
    "from sqlalchemy.ext.declarative import declarative_base\n",
    "from sqlalchemy import Column, Integer, String, Float, ForeignKey,func, desc, extract\n",
    "import matplotlib.pyplot as plt\n",
    "from dateutil.relativedelta import relativedelta"
   ]
  },
  {
   "cell_type": "markdown",
   "metadata": {},
   "source": [
    "### Creating Connection to the database"
   ]
  },
  {
   "cell_type": "code",
   "execution_count": 2,
   "metadata": {
    "collapsed": true
   },
   "outputs": [],
   "source": [
    "engine = create_engine(\"sqlite:///hawaii.db\", echo=False)\n",
    "conn = engine.connect()"
   ]
  },
  {
   "cell_type": "code",
   "execution_count": 3,
   "metadata": {},
   "outputs": [
    {
     "data": {
      "text/plain": [
       "['Measurements', 'Stations']"
      ]
     },
     "execution_count": 3,
     "metadata": {},
     "output_type": "execute_result"
    }
   ],
   "source": [
    "Base = automap_base()\n",
    "Base.prepare(engine, reflect=True)\n",
    "Base.classes.keys()"
   ]
  },
  {
   "cell_type": "code",
   "execution_count": 4,
   "metadata": {
    "collapsed": true
   },
   "outputs": [],
   "source": [
    "m = Base.classes.Measurements\n",
    "s = Base.classes.Stations"
   ]
  },
  {
   "cell_type": "code",
   "execution_count": 5,
   "metadata": {
    "collapsed": true
   },
   "outputs": [],
   "source": [
    "session = Session(bind=engine)"
   ]
  },
  {
   "cell_type": "markdown",
   "metadata": {},
   "source": [
    "### Precipitation Analysis"
   ]
  },
  {
   "cell_type": "code",
   "execution_count": 31,
   "metadata": {
    "collapsed": true
   },
   "outputs": [],
   "source": [
    "#prec_qry = session.query(m.date, m.prcp).filter(m.date>='2016-07-01').order_by(m.date)\n",
    "prec_qry = session.query(m.date, m.prcp).filter(m.date>='2017-07-01').order_by(m.date)"
   ]
  },
  {
   "cell_type": "code",
   "execution_count": 32,
   "metadata": {},
   "outputs": [
    {
     "name": "stdout",
     "output_type": "stream",
     "text": [
      "SELECT \"Measurements\".date AS \"Measurements_date\", \"Measurements\".prcp AS \"Measurements_prcp\" \n",
      "FROM \"Measurements\" \n",
      "WHERE \"Measurements\".date >= ? ORDER BY \"Measurements\".date\n"
     ]
    }
   ],
   "source": [
    "print(prec_qry)"
   ]
  },
  {
   "cell_type": "code",
   "execution_count": 8,
   "metadata": {
    "collapsed": true
   },
   "outputs": [],
   "source": [
    "prec_df = pd.read_sql(prec_qry.statement, prec_qry.session.bind)"
   ]
  },
  {
   "cell_type": "code",
   "execution_count": 9,
   "metadata": {},
   "outputs": [
    {
     "name": "stdout",
     "output_type": "stream",
     "text": [
      "<class 'pandas.core.frame.DataFrame'>\n",
      "RangeIndex: 285 entries, 0 to 284\n",
      "Data columns (total 2 columns):\n",
      "date    285 non-null object\n",
      "prcp    285 non-null float64\n",
      "dtypes: float64(1), object(1)\n",
      "memory usage: 4.5+ KB\n"
     ]
    }
   ],
   "source": [
    "prec_df.info()"
   ]
  },
  {
   "cell_type": "code",
   "execution_count": 10,
   "metadata": {},
   "outputs": [
    {
     "name": "stdout",
     "output_type": "stream",
     "text": [
      "<class 'pandas.core.frame.DataFrame'>\n",
      "Index: 285 entries, 2017-07-01 to 2017-08-23\n",
      "Data columns (total 1 columns):\n",
      "prcp    285 non-null float64\n",
      "dtypes: float64(1)\n",
      "memory usage: 4.5+ KB\n"
     ]
    }
   ],
   "source": [
    "prec_df.set_index('date', inplace=True)\n",
    "prec_df.head()\n",
    "prec_df.info()\n"
   ]
  },
  {
   "cell_type": "code",
   "execution_count": 11,
   "metadata": {},
   "outputs": [
    {
     "name": "stdout",
     "output_type": "stream",
     "text": [
      "<class 'pandas.core.frame.DataFrame'>\n",
      "Index: 285 entries, 2017-07-01 to 2017-08-23\n",
      "Data columns (total 1 columns):\n",
      "prcp    285 non-null float64\n",
      "dtypes: float64(1)\n",
      "memory usage: 4.5+ KB\n"
     ]
    }
   ],
   "source": [
    "prec_df = prec_df.apply(pd.to_numeric)\n",
    "prec_df.info()"
   ]
  },
  {
   "cell_type": "code",
   "execution_count": 35,
   "metadata": {},
   "outputs": [
    {
     "data": {
      "text/plain": [
       "<matplotlib.figure.Figure at 0x2887b1cb710>"
      ]
     },
     "metadata": {},
     "output_type": "display_data"
    },
    {
     "data": {
      "image/png": "[encoded data removed]",
      "text/plain": [
       "<matplotlib.figure.Figure at 0x2887b1b7e48>"
      ]
     },
     "metadata": {},
     "output_type": "display_data"
    }
   ],
   "source": [
    "plt.figure(figsize=(18,4))\n",
    "prec_df.plot(rot=45,alpha=0.75)\n",
    "plt.ylabel('Precipitation in inches')\n",
    "plt.xlabel(\"\")\n",
    "plt.title(\"Precipitation 2017-07-01 to 2017-08-23\")\n",
    "plt.show()"
   ]
  },
  {
   "cell_type": "code",
   "execution_count": 13,
   "metadata": {},
   "outputs": [
    {
     "data": {
      "text/html": [
       "<div>\n",
       "<style>\n",
       "    .dataframe thead tr:only-child th {\n",
       "        text-align: right;\n",
       "    }\n",
       "\n",
       "    .dataframe thead th {\n",
       "        text-align: left;\n",
       "    }\n",
       "\n",
       "    .dataframe tbody tr th {\n",
       "        vertical-align: top;\n",
       "    }\n",
       "</style>\n",
       "<table border=\"1\" class=\"dataframe\">\n",
       "  <thead>\n",
       "    <tr style=\"text-align: right;\">\n",
       "      <th></th>\n",
       "      <th>prcp</th>\n",
       "    </tr>\n",
       "  </thead>\n",
       "  <tbody>\n",
       "    <tr>\n",
       "      <th>count</th>\n",
       "      <td>285.000000</td>\n",
       "    </tr>\n",
       "    <tr>\n",
       "      <th>mean</th>\n",
       "      <td>0.117186</td>\n",
       "    </tr>\n",
       "    <tr>\n",
       "      <th>std</th>\n",
       "      <td>0.312267</td>\n",
       "    </tr>\n",
       "    <tr>\n",
       "      <th>min</th>\n",
       "      <td>0.000000</td>\n",
       "    </tr>\n",
       "    <tr>\n",
       "      <th>25%</th>\n",
       "      <td>0.000000</td>\n",
       "    </tr>\n",
       "    <tr>\n",
       "      <th>50%</th>\n",
       "      <td>0.020000</td>\n",
       "    </tr>\n",
       "    <tr>\n",
       "      <th>75%</th>\n",
       "      <td>0.150000</td>\n",
       "    </tr>\n",
       "    <tr>\n",
       "      <th>max</th>\n",
       "      <td>4.000000</td>\n",
       "    </tr>\n",
       "  </tbody>\n",
       "</table>\n",
       "</div>"
      ],
      "text/plain": [
       "             prcp\n",
       "count  285.000000\n",
       "mean     0.117186\n",
       "std      0.312267\n",
       "min      0.000000\n",
       "25%      0.000000\n",
       "50%      0.020000\n",
       "75%      0.150000\n",
       "max      4.000000"
      ]
     },
     "execution_count": 13,
     "metadata": {},
     "output_type": "execute_result"
    }
   ],
   "source": [
    "prec_df.describe()"
   ]
  },
  {
   "cell_type": "markdown",
   "metadata": {
    "collapsed": true
   },
   "source": [
    "### Station Analysis"
   ]
  },
  {
   "cell_type": "code",
   "execution_count": 14,
   "metadata": {},
   "outputs": [
    {
     "data": {
      "text/plain": [
       "9"
      ]
     },
     "execution_count": 14,
     "metadata": {},
     "output_type": "execute_result"
    }
   ],
   "source": [
    "stationCount = session.query(s.id).count()\n",
    "stationCount"
   ]
  },
  {
   "cell_type": "code",
   "execution_count": 43,
   "metadata": {},
   "outputs": [
    {
     "data": {
      "text/plain": [
       "[('WAIHEE 837.5, HI US', 'USC00519281', 2772),\n",
       " ('WAIKIKI 717.2, HI US', 'USC00519397', 2724),\n",
       " ('KANEOHE 838.1, HI US', 'USC00513117', 2709),\n",
       " ('WAIMANALO EXPERIMENTAL FARM, HI US', 'USC00519523', 2669),\n",
       " ('MANOA LYON ARBO 785.2, HI US', 'USC00516128', 2612),\n",
       " ('KUALOA RANCH HEADQUARTERS 886.9, HI US', 'USC00514830', 2202),\n",
       " ('HONOLULU OBSERVATORY 702.2, HI US', 'USC00511918', 1979),\n",
       " ('PEARL CITY, HI US', 'USC00517948', 1372),\n",
       " ('UPPER WAHIAWA 874.3, HI US', 'USC00518838', 511)]"
      ]
     },
     "execution_count": 43,
     "metadata": {},
     "output_type": "execute_result"
    }
   ],
   "source": [
    "stationCounts = session.query(s.name,m.station,func.count(m.id).label('Station Counts')).filter(s.station==m.station).group_by(s.id,m.station).order_by(desc('Station Counts')).all()\n",
    "stationCounts"
   ]
  },
  {
   "cell_type": "code",
   "execution_count": 38,
   "metadata": {},
   "outputs": [],
   "source": [
    "Subquery = session.query(m.station.label('station'),func.count(m.id).label('Counts')).group_by(m.station).order_by(desc('Counts')).subquery()"
   ]
  },
  {
   "cell_type": "code",
   "execution_count": 17,
   "metadata": {},
   "outputs": [
    {
     "data": {
      "text/plain": [
       "'USC00519281'"
      ]
     },
     "execution_count": 17,
     "metadata": {},
     "output_type": "execute_result"
    }
   ],
   "source": [
    "max_observation = session.query(Subquery.c.station,func.max(Subquery.c.Counts)).scalar()\n",
    "max_observation"
   ]
  },
  {
   "cell_type": "code",
   "execution_count": 18,
   "metadata": {},
   "outputs": [
    {
     "data": {
      "text/plain": [
       "relativedelta(years=+1)"
      ]
     },
     "execution_count": 18,
     "metadata": {},
     "output_type": "execute_result"
    }
   ],
   "source": [
    "max_date = session.query(m.date).order_by(m.date.desc()).first()\n",
    "relativedelta(years=1)"
   ]
  },
  {
   "cell_type": "code",
   "execution_count": 19,
   "metadata": {},
   "outputs": [
    {
     "data": {
      "text/plain": [
       "datetime.date(2016, 8, 23)"
      ]
     },
     "execution_count": 19,
     "metadata": {},
     "output_type": "execute_result"
    }
   ],
   "source": [
    "last_year = max_date[0]- relativedelta(years=1)\n",
    "last_year"
   ]
  },
  {
   "cell_type": "code",
   "execution_count": 20,
   "metadata": {
    "collapsed": true
   },
   "outputs": [],
   "source": [
    "tobs = session.query(m.date, m.tobs).filter(m.date>=last_year).filter(m.station==max_observation).order_by(m.date).all()"
   ]
  },
  {
   "cell_type": "code",
   "execution_count": 27,
   "metadata": {},
   "outputs": [],
   "source": [
    "#tobs"
   ]
  },
  {
   "cell_type": "code",
   "execution_count": 22,
   "metadata": {},
   "outputs": [
    {
     "data": {
      "image/png": "[encoded data removed]",
      "text/plain": [
       "<matplotlib.figure.Figure at 0x2887b5a9dd8>"
      ]
     },
     "metadata": {},
     "output_type": "display_data"
    }
   ],
   "source": [
    "temps = [x[1] for x in tobs]\n",
    "plt.hist(temps, normed=True, bins=12)\n",
    "plt.ylabel(\"Frequency\")\n",
    "plt.xlabel(\"Temperature\")\n",
    "plt.title(\"Observed Temperatures 08/23/2016 to 08/18/2017\")\n",
    "plt.show()"
   ]
  },
  {
   "cell_type": "markdown",
   "metadata": {},
   "source": [
    "### Temperature Analysis"
   ]
  },
  {
   "cell_type": "code",
   "execution_count": 40,
   "metadata": {},
   "outputs": [
    {
     "name": "stdout",
     "output_type": "stream",
     "text": [
      "Temperature within trip duration - Max Temp: 79.0  Min Temp: 65.0  Avg Temp: 72.85227272727273\n"
     ]
    },
    {
     "data": {
      "text/plain": [
       "(79.0, 65.0, 72.85227272727273)"
      ]
     },
     "execution_count": 40,
     "metadata": {},
     "output_type": "execute_result"
    }
   ],
   "source": [
    "def calc_temps(start_date, end_date):\n",
    "    result = session.query(func.max(m.tobs).label('max_temp'), func.min(m.tobs).label('min_temp'), func.avg(m.tobs).label('avg_temp')).filter(m.date.between(start_date, end_date)).first()\n",
    "    print(\"Temperature within trip duration - Max Temp:\", result.max_temp, \" Min Temp:\", result.min_temp, \" Avg Temp:\", result.avg_temp)\n",
    "    return result\n",
    "   \n",
    "t = calc_temps('2016-05-01','2016-05-14')\n",
    "t"
   ]
  },
  {
   "cell_type": "code",
   "execution_count": 41,
   "metadata": {},
   "outputs": [
    {
     "name": "stdout",
     "output_type": "stream",
     "text": [
      "Temperature within trip duration - Max Temp: 84.0  Min Temp: 66.0  Avg Temp: 75.83333333333333\n"
     ]
    },
    {
     "data": {
      "text/plain": [
       "(84.0, 66.0, 75.83333333333333)"
      ]
     },
     "execution_count": 41,
     "metadata": {},
     "output_type": "execute_result"
    }
   ],
   "source": [
    "pre_year_temp = calc_temps('2015-10-01','2015-10-14')\n",
    "pre_year_temp"
   ]
  },
  {
   "cell_type": "code",
   "execution_count": 42,
   "metadata": {},
   "outputs": [
    {
     "data": {
      "image/png": "[encoded data removed]",
      "text/plain": [
       "<matplotlib.figure.Figure at 0x2887b1e7b38>"
      ]
     },
     "metadata": {},
     "output_type": "display_data"
    }
   ],
   "source": [
    "plt.figure(figsize=(1,4))\n",
    "err=t.max_temp-t.min_temp\n",
    "x_axis = 0\n",
    "plt.bar(x_axis, t.avg_temp, yerr=err)\n",
    "plt.xticks([0])\n",
    "plt.ylabel(\"Temperature (F)\")\n",
    "plt.title(\"Trip Avg Temp\")\n",
    "frame = plt.gca()\n",
    "frame.axes.get_xaxis().set_visible(False)\n",
    "plt.show()"
   ]
  },
  {
   "cell_type": "code",
   "execution_count": 44,
   "metadata": {
    "collapsed": true
   },
   "outputs": [],
   "source": [
    "def daily_normals(dt_lst):\n",
    "    temp_min, temp_max, temp_avg = [], [], []     \n",
    "    for dt1 in dt_lst:\n",
    "        dt1_str = '%-' + dt1[5:]\n",
    "        temp = session.query(func.max(Measurement.tobs).label('max_temp'), func.min(Measurement.tobs).label('min_temp'), func.avg(Measurement.tobs).label('avg_temp')).filter(Measurement.date.like(dt1_str)).first()\n",
    "        print(\"Estimated Temperatures for\" , dt1, \" - Max Temp:\", temp.max_temp, \" Min Temp:\", temp.min_temp, \" Avg Temp:\", temp.avg_temp)  "
   ]
  },
  {
   "cell_type": "code",
   "execution_count": null,
   "metadata": {
    "collapsed": true
   },
   "outputs": [],
   "source": []
  }
 ],
 "metadata": {
  "kernelspec": {
   "display_name": "Python 3",
   "language": "python",
   "name": "python3"
  },
  "language_info": {
   "codemirror_mode": {
    "name": "ipython",
    "version": 3
   },
   "file_extension": ".py",
   "mimetype": "text/x-python",
   "name": "python",
   "nbconvert_exporter": "python",
   "pygments_lexer": "ipython3",
   "version": "3.6.1"
  }
 },
 "nbformat": 4,
 "nbformat_minor": 2
}
